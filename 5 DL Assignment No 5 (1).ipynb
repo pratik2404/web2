{
 "cells": [
  {
   "cell_type": "code",
   "execution_count": 1,
   "id": "91e453b6",
   "metadata": {},
   "outputs": [],
   "source": [
    "#   Assignment No:5\n",
    "#   Title: Implement the Continuous Bag of Words (CBOW) Model. Stages can be:\n",
    "#   a. Data preparation\n",
    "#   b. Generate training data\n",
    "#   c. Train model\n",
    "#   d. Output.\n",
    "#   Name: Jagdale Pratik Sudam\n",
    "#   CRN No: 9042\n",
    "#   Class :BEIT"
   ]
  },
  {
   "cell_type": "code",
   "execution_count": 2,
   "id": "acd4caa0",
   "metadata": {},
   "outputs": [
    {
     "name": "stdout",
     "output_type": "stream",
     "text": [
      "Requirement already satisfied: gensim in c:\\users\\lenovo\\appdata\\local\\programs\\python\\python310\\lib\\site-packages (4.2.0)\n",
      "Requirement already satisfied: scipy>=0.18.1 in c:\\users\\lenovo\\appdata\\local\\programs\\python\\python310\\lib\\site-packages (from gensim) (1.9.3)\n",
      "Requirement already satisfied: Cython==0.29.28 in c:\\users\\lenovo\\appdata\\local\\programs\\python\\python310\\lib\\site-packages (from gensim) (0.29.28)\n",
      "Requirement already satisfied: smart-open>=1.8.1 in c:\\users\\lenovo\\appdata\\local\\programs\\python\\python310\\lib\\site-packages (from gensim) (6.2.0)\n",
      "Requirement already satisfied: numpy>=1.17.0 in c:\\users\\lenovo\\appdata\\local\\programs\\python\\python310\\lib\\site-packages (from gensim) (1.23.4)\n",
      "Note: you may need to restart the kernel to use updated packages.\n"
     ]
    },
    {
     "name": "stderr",
     "output_type": "stream",
     "text": [
      "\n",
      "[notice] A new release of pip available: 22.2.1 -> 22.3.1\n",
      "[notice] To update, run: python.exe -m pip install --upgrade pip\n"
     ]
    }
   ],
   "source": [
    "pip install gensim"
   ]
  },
  {
   "cell_type": "code",
   "execution_count": 3,
   "id": "da92415a",
   "metadata": {},
   "outputs": [
    {
     "ename": "ModuleNotFoundError",
     "evalue": "No module named 'nltk'",
     "output_type": "error",
     "traceback": [
      "\u001b[1;31m---------------------------------------------------------------------------\u001b[0m",
      "\u001b[1;31mModuleNotFoundError\u001b[0m                       Traceback (most recent call last)",
      "Cell \u001b[1;32mIn [3], line 3\u001b[0m\n\u001b[0;32m      1\u001b[0m \u001b[38;5;66;03m#Importing libraries\u001b[39;00m\n\u001b[0;32m      2\u001b[0m \u001b[38;5;28;01mimport\u001b[39;00m \u001b[38;5;21;01mnumpy\u001b[39;00m \u001b[38;5;28;01mas\u001b[39;00m \u001b[38;5;21;01mnp\u001b[39;00m\n\u001b[1;32m----> 3\u001b[0m \u001b[38;5;28;01mfrom\u001b[39;00m \u001b[38;5;21;01mnltk\u001b[39;00m\u001b[38;5;21;01m.\u001b[39;00m\u001b[38;5;21;01mtokenize\u001b[39;00m \u001b[38;5;28;01mimport\u001b[39;00m sent_tokenize, word_tokenize\n\u001b[0;32m      4\u001b[0m \u001b[38;5;28;01mimport\u001b[39;00m \u001b[38;5;21;01mwarnings\u001b[39;00m\n\u001b[0;32m      5\u001b[0m warnings\u001b[38;5;241m.\u001b[39mfilterwarnings(action \u001b[38;5;241m=\u001b[39m \u001b[38;5;124m'\u001b[39m\u001b[38;5;124mignore\u001b[39m\u001b[38;5;124m'\u001b[39m)\n",
      "\u001b[1;31mModuleNotFoundError\u001b[0m: No module named 'nltk'"
     ]
    }
   ],
   "source": [
    "#Importing libraries\n",
    "import numpy as np\n",
    "from nltk.tokenize import sent_tokenize, word_tokenize\n",
    "import warnings warnings.filterwarnings(action = 'ignore')\n",
    "import gensim\n",
    "from gensim.models import Word2Vec\n",
    "import re\n",
    "import bs4 as bs\n",
    "import urllib.request\n",
    "import nltk"
   ]
  },
  {
   "cell_type": "code",
   "execution_count": null,
   "id": "e9636784",
   "metadata": {},
   "outputs": [],
   "source": [
    "nltk.download('punkt')\n",
    "nltk.download('stopwords')"
   ]
  },
  {
   "cell_type": "code",
   "execution_count": null,
   "id": "4c47f76f",
   "metadata": {},
   "outputs": [],
   "source": [
    "sentences = \"\"\"Navratri is a time when Hindus celebrate the goddess Durga for killing the demon, Mahishasura.A more powerful God, Lord Brahma, had blessed Mahishasura with the gift of immortality because of his dedication to him, which meant he could never die.\n",
    "However, this gift did come with one condition - the only person who would be able to defeat Mahishasura would be a woman. Mahishasura didn't think any women would be strong enough to kill him and was happy with the deal.\n",
    "Over the years, Mahishasura and his men became a powerful force attacking people on Earth and no gods were able to defeat him. Finally Lord Brahma, Lord Vishnu and Lord Shiva - the three most powerful Hindu gods - decided to come together and create the goddess Durga, a powerful woman whose job would be to destroy Mahishasura. The gods equipped the new goddess Durga with lots of weapons before she went into battle with Mahishasura.\n",
    "Durga fought the demon for 10 days, and it proved quite difficult as he kept changing his form to confuse the goddess. However, when he finally turned into a buffalo, Durga was able to defeat him.\"\"\""
   ]
  },
  {
   "cell_type": "code",
   "execution_count": null,
   "id": "c0b5a800",
   "metadata": {},
   "outputs": [],
   "source": [
    "#Remove one letter words\n",
    "sentences = re.sub('[^A-Za-z0-9]+', ' ', sentences)\n",
    "\n",
    "#Remove special characters\n",
    "sentences = re.sub(r'(?:^| )\\w(?:$| )', ' ', sentences).strip()\n",
    "print(sentences)"
   ]
  },
  {
   "cell_type": "code",
   "execution_count": null,
   "id": "8ce3579d",
   "metadata": {},
   "outputs": [],
   "source": [
    "#Convert all letters to lowercase\n",
    "sentences = sentences.lower()"
   ]
  },
  {
   "cell_type": "code",
   "execution_count": null,
   "id": "c8db4c8d",
   "metadata": {},
   "outputs": [],
   "source": [
    "#Tokenize sentences\n",
    "all_sent=nltk.sent_tokenize(sentences)\n",
    "print(all_sent)"
   ]
  },
  {
   "cell_type": "code",
   "execution_count": null,
   "id": "68c7eb2c",
   "metadata": {},
   "outputs": [],
   "source": [
    "#Break sentences into words\n",
    "all_words=[nltk.word_tokenize(sent) for sent in all_sent]"
   ]
  },
  {
   "cell_type": "code",
   "execution_count": null,
   "id": "b1ee4489",
   "metadata": {},
   "outputs": [],
   "source": [
    "#Remove stopwords\n",
    "from nltk.corpus import stopwords\n",
    "for i in range(len(all_words)):\n",
    "  all_words[i]=[w for w in all_words[i] if w not in stopwords.words('english')]\n",
    "data =all_words"
   ]
  },
  {
   "cell_type": "code",
   "execution_count": null,
   "id": "48fc7e44",
   "metadata": {},
   "outputs": [],
   "source": [
    "#Training model using gensim\n",
    "model1 = gensim.models.Word2Vec(data, min_count=1,vector_size=52,window=6)"
   ]
  },
  {
   "cell_type": "code",
   "execution_count": null,
   "id": "4e34a329",
   "metadata": {},
   "outputs": [],
   "source": [
    "wrd='goddess'\n",
    "v1=model1.wv[wrd]\n",
    "similar_words=model1.wv.most_similar(wrd)\n",
    "for x in similar_words:\n",
    "  print(x)"
   ]
  },
  {
   "cell_type": "code",
   "execution_count": null,
   "id": "6e2b45aa",
   "metadata": {},
   "outputs": [],
   "source": [
    "data1 = data[0]\n",
    "print(data1)"
   ]
  },
  {
   "cell_type": "code",
   "execution_count": null,
   "id": "4558691d",
   "metadata": {},
   "outputs": [],
   "source": [
    "#Preparing list of context words\n",
    "\n",
    "dat = []\n",
    "for i in range(2, len(data1) - 2):\n",
    "    context = [data1[i - 2], data1[i - 1], data1[i+1], data1[i + 2]]\n",
    "    target = data1[i]\n",
    "    dat.append((context, target))\n",
    "print(dat)"
   ]
  },
  {
   "cell_type": "code",
   "execution_count": null,
   "id": "5e82194b",
   "metadata": {},
   "outputs": [],
   "source": [
    "#Predicting current word from context words\n",
    "i=3\n",
    "print(dat[i][0],dat[i][1])\n",
    "print(model1.predict_output_word(dat[i][0]))"
   ]
  }
 ],
 "metadata": {
  "kernelspec": {
   "display_name": "Python 3 (ipykernel)",
   "language": "python",
   "name": "python3"
  },
  "language_info": {
   "codemirror_mode": {
    "name": "ipython",
    "version": 3
   },
   "file_extension": ".py",
   "mimetype": "text/x-python",
   "name": "python",
   "nbconvert_exporter": "python",
   "pygments_lexer": "ipython3",
   "version": "3.10.6"
  }
 },
 "nbformat": 4,
 "nbformat_minor": 5
}
